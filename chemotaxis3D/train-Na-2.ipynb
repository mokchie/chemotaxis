{
 "cells": [
  {
   "cell_type": "code",
   "execution_count": 1,
   "metadata": {
    "colab": {
     "base_uri": "https://localhost:8080/"
    },
    "executionInfo": {
     "elapsed": 61939,
     "status": "ok",
     "timestamp": 1666606420808,
     "user": {
      "displayName": "chaojie mo",
      "userId": "15236857917245553085"
     },
     "user_tz": -480
    },
    "id": "53GZRuLZ-1jU",
    "outputId": "21ed1d83-9bf4-488d-9829-1886d1929315"
   },
   "outputs": [
    {
     "ename": "ModuleNotFoundError",
     "evalue": "No module named 'google.colab'",
     "output_type": "error",
     "traceback": [
      "\u001b[0;31m---------------------------------------------------------------------------\u001b[0m",
      "\u001b[0;31mModuleNotFoundError\u001b[0m                       Traceback (most recent call last)",
      "\u001b[0;32m<ipython-input-1-d5df0069828e>\u001b[0m in \u001b[0;36m<module>\u001b[0;34m\u001b[0m\n\u001b[0;32m----> 1\u001b[0;31m \u001b[0;32mfrom\u001b[0m \u001b[0mgoogle\u001b[0m\u001b[0;34m.\u001b[0m\u001b[0mcolab\u001b[0m \u001b[0;32mimport\u001b[0m \u001b[0mdrive\u001b[0m\u001b[0;34m\u001b[0m\u001b[0;34m\u001b[0m\u001b[0m\n\u001b[0m\u001b[1;32m      2\u001b[0m \u001b[0mdrive\u001b[0m\u001b[0;34m.\u001b[0m\u001b[0mmount\u001b[0m\u001b[0;34m(\u001b[0m\u001b[0;34m'/content/drive'\u001b[0m\u001b[0;34m)\u001b[0m\u001b[0;34m\u001b[0m\u001b[0;34m\u001b[0m\u001b[0m\n",
      "\u001b[0;31mModuleNotFoundError\u001b[0m: No module named 'google.colab'"
     ]
    }
   ],
   "source": [
    "from google.colab import drive\n",
    "drive.mount('/content/drive'"
   ]
  },
  {
   "cell_type": "code",
   "execution_count": null,
   "metadata": {
    "id": "OOgMeqm_LPDz"
   },
   "outputs": [],
   "source": [
    "import sys\n",
    "sys.path.append('/content/drive/MyDrive/Colab Notebooks/')"
   ]
  },
  {
   "cell_type": "code",
   "execution_count": null,
   "metadata": {
    "colab": {
     "base_uri": "https://localhost:8080/"
    },
    "executionInfo": {
     "elapsed": 7,
     "status": "ok",
     "timestamp": 1666606427264,
     "user": {
      "displayName": "chaojie mo",
      "userId": "15236857917245553085"
     },
     "user_tz": -480
    },
    "id": "qhXzzkLG_who",
    "outputId": "7818f431-3044-4fa0-aedc-739e198f0498"
   },
   "outputs": [],
   "source": [
    "cd /content/drive/MyDrive/\"Colab Notebooks\"/chemo_Na"
   ]
  },
  {
   "cell_type": "code",
   "execution_count": 2,
   "metadata": {
    "colab": {
     "base_uri": "https://localhost:8080/"
    },
    "executionInfo": {
     "elapsed": 7,
     "status": "ok",
     "timestamp": 1666606427264,
     "user": {
      "displayName": "chaojie mo",
      "userId": "15236857917245553085"
     },
     "user_tz": -480
    },
    "id": "qhXzzkLG_who",
    "outputId": "7818f431-3044-4fa0-aedc-739e198f0498"
   },
   "outputs": [
    {
     "name": "stdout",
     "output_type": "stream",
     "text": [
      "/Users/mochaojie/Documents/chemotaxis\n"
     ]
    }
   ],
   "source": [
    "cd ~/Documents/chemotaxis/"
   ]
  },
  {
   "cell_type": "code",
   "execution_count": 13,
   "metadata": {
    "colab": {
     "base_uri": "https://localhost:8080/"
    },
    "executionInfo": {
     "elapsed": 4084,
     "status": "ok",
     "timestamp": 1666606433287,
     "user": {
      "displayName": "chaojie mo",
      "userId": "15236857917245553085"
     },
     "user_tz": -480
    },
    "id": "p57MI9iwBVWz",
    "outputId": "44f8a91d-08e3-45a8-ab78-cda4cc0bdbd0"
   },
   "outputs": [],
   "source": [
    "from swimmer import *\n",
    "import tensorflow as tf\n",
    "\n",
    "os.environ['KMP_DUPLICATE_LIB_OK']='True'\n",
    "clear('sample')\n",
    "random.seed(39895)"
   ]
  },
  {
   "cell_type": "code",
   "execution_count": 14,
   "metadata": {
    "id": "a8ZH8o4ABbUC"
   },
   "outputs": [],
   "source": [
    "conc_field = Conc_field(c0=20,k=1)\n",
    "swimmer = Swimmer(v0=1, k0=4.0, kw=2.0, kn=2, t0=0, rx0=2, ry0=10, tx0=1, ty0=0, nx0=0, ny0=-1, Taction=1/8, dt=0.005, field=conc_field.get_conc,targetx=0, targety=1000, lifespan=80, state_size=8, sname='sample', xb=[0,10], yb=[0,10],rand=True,dump_freq=10)"
   ]
  },
  {
   "cell_type": "code",
   "execution_count": 15,
   "metadata": {
    "id": "RGKa6unPFq2k"
   },
   "outputs": [],
   "source": [
    "agent = DQN(swimmer, epochs=400, batch_size=128, gamma=0.98, epsilon_min=0.1, epsilon_decay=0.98)"
   ]
  },
  {
   "cell_type": "code",
   "execution_count": null,
   "metadata": {
    "id": "BsGgMHTmBjdi"
   },
   "outputs": [
    {
     "name": "stdout",
     "output_type": "stream",
     "text": [
      "epoch  0\n",
      "mean_score  1.1698162570609902\n"
     ]
    },
    {
     "name": "stderr",
     "output_type": "stream",
     "text": [
      "Exception ignored in: <function ScopedTFGraph.__del__ at 0x7f9e8bf53e60>\n",
      "Traceback (most recent call last):\n",
      "  File \"/Users/mochaojie/anaconda/anaconda3/lib/python3.7/site-packages/tensorflow_core/python/framework/c_api_util.py\", line 52, in __del__\n",
      "    c_api.TF_DeleteGraph(self.graph)\n",
      "AttributeError: 'ScopedTFGraph' object has no attribute 'graph'\n"
     ]
    },
    {
     "name": "stdout",
     "output_type": "stream",
     "text": [
      "epoch  1\n",
      "mean_score  0.2130067943989502\n",
      "epoch  2\n",
      "mean_score  0.47023380495909944\n",
      "epoch  3\n",
      "mean_score  -0.05698134696735835\n",
      "epoch  4\n",
      "mean_score  0.13421445653847286\n",
      "epoch  5\n",
      "mean_score  -0.21204475538281523\n",
      "epoch  6\n",
      "mean_score  -0.24323177934691184\n",
      "epoch  7\n",
      "mean_score  -0.28953446790529735\n",
      "epoch  8\n",
      "mean_score  -0.33721138974999\n",
      "epoch  9\n",
      "mean_score  -0.2775357777304408\n",
      "epoch  10\n",
      "mean_score  -0.3795989484457518\n",
      "epoch  11\n",
      "mean_score  -0.20755142455612363\n",
      "epoch  12\n",
      "mean_score  -0.2830574240351411\n",
      "epoch  13\n",
      "mean_score  0.0161190220031191\n",
      "epoch  14\n",
      "mean_score  0.09210965254283199\n",
      "epoch  15\n",
      "mean_score  0.339792420130415\n",
      "epoch  16\n",
      "mean_score  0.22865540353897496\n",
      "epoch  17\n",
      "mean_score  0.2394969625354113\n",
      "epoch  18\n",
      "mean_score  0.19279697450534528\n",
      "epoch  19\n",
      "mean_score  0.13614485663974651\n",
      "epoch  20\n",
      "mean_score  0.031230663498649225\n",
      "epoch  21\n",
      "mean_score  -0.1156758278004788\n",
      "epoch  22\n",
      "mean_score  -0.13272845032365188\n",
      "epoch  23\n",
      "mean_score  -0.2860682001910049\n",
      "epoch  24\n",
      "mean_score  -0.31922270857036805\n",
      "epoch  25\n",
      "mean_score  -0.199771302666373\n",
      "epoch  26\n",
      "mean_score  -0.23668185300568956\n",
      "epoch  27\n",
      "mean_score  -0.03637677653376681\n",
      "epoch  28\n",
      "mean_score  0.19565781219873601\n",
      "epoch  29\n",
      "mean_score  0.4955702073691821\n",
      "epoch  30\n",
      "mean_score  0.551950416708614\n",
      "epoch  31\n",
      "mean_score  0.7525012968270879\n",
      "epoch  32\n",
      "mean_score  0.8182599722044879\n",
      "epoch  33\n",
      "mean_score  0.6504193681943424\n",
      "epoch  34\n",
      "mean_score  0.6788446005972046\n",
      "epoch  35\n",
      "mean_score  0.44449882413006936\n",
      "epoch  36\n",
      "mean_score  0.08673496555775806\n",
      "epoch  37\n",
      "mean_score  -0.2598852788150028\n",
      "epoch  38\n",
      "mean_score  -0.31697573532440027\n",
      "epoch  39\n",
      "mean_score  -0.5112274292957997\n",
      "epoch  40\n",
      "mean_score  -0.4297318762538018\n",
      "epoch  41\n",
      "mean_score  -0.41386555448463636\n",
      "epoch  42\n",
      "mean_score  -0.37040089560849143\n",
      "epoch  43\n",
      "mean_score  -0.001442420888148721\n",
      "epoch  44\n",
      "mean_score  0.18098175904897396\n",
      "epoch  45\n",
      "mean_score  0.271895700836001\n",
      "epoch  46\n",
      "mean_score  0.3004161295385739\n",
      "epoch  47\n",
      "mean_score  0.43283499537852377\n",
      "epoch  48\n",
      "mean_score  0.40231809688407427\n",
      "epoch  49\n",
      "mean_score  0.5564670977883592\n",
      "epoch  50\n"
     ]
    }
   ],
   "source": [
    "scores = agent.train(0)"
   ]
  },
  {
   "cell_type": "code",
   "execution_count": null,
   "metadata": {
    "id": "QvMvgO4JBlPB"
   },
   "outputs": [],
   "source": [
    "plt.plot(scores)\n",
    "agent.model.save('saved_model/saved_model1')\n",
    "plt.show()"
   ]
  }
 ],
 "metadata": {
  "accelerator": "GPU",
  "colab": {
   "authorship_tag": "ABX9TyN+oL+aOiv3bB2104dyn2LD",
   "collapsed_sections": [],
   "provenance": []
  },
  "gpuClass": "premium",
  "kernelspec": {
   "display_name": "Python 3",
   "language": "python",
   "name": "python3"
  },
  "language_info": {
   "codemirror_mode": {
    "name": "ipython",
    "version": 3
   },
   "file_extension": ".py",
   "mimetype": "text/x-python",
   "name": "python",
   "nbconvert_exporter": "python",
   "pygments_lexer": "ipython3",
   "version": "3.7.4"
  }
 },
 "nbformat": 4,
 "nbformat_minor": 1
}
